{
 "cells": [
  {
   "cell_type": "markdown",
   "metadata": {},
   "source": [
    "Project title - Building a Data pipeline using Scapy and visualizing senders and receivers using Neo4j"
   ]
  },
  {
   "cell_type": "markdown",
   "metadata": {},
   "source": [
    "Industry Problem \n",
    "Computer Networks Lab - UE20CS253\n",
    "\n",
    "Deepthi Dayanand - PES1UG20CS120\n",
    "Ashish Kulkarni - PES1UG20CS085\n",
    "Bhumika Nayak - PES1UG20CS104"
   ]
  },
  {
   "cell_type": "code",
   "execution_count": null,
   "metadata": {},
   "outputs": [],
   "source": [
    "import sys\n",
    "!{sys.executable} -m pip install pypcapfile  #Handling pcap files\n",
    "!{sys.executable} -m pip install scapy  #Used alongside pypcapfile to dissect network packets\n",
    "!{sys.executable} -m pip install py2neo  #Client library for Neo4j\n",
    "!{sys.executable} -m pip install binascii #Convert bw Binary and Ascii "
   ]
  },
  {
   "cell_type": "code",
   "execution_count": null,
   "metadata": {},
   "outputs": [],
   "source": [
    "# importing the packages we need from \"pcapfile\"\n",
    "from pcapfile import savefile\n",
    "from pcapfile.protocols.linklayer import ethernet\n",
    "from pcapfile.protocols.network import ip"
   ]
  },
  {
   "cell_type": "code",
   "execution_count": null,
   "metadata": {},
   "outputs": [],
   "source": [
    "from scapy.all import rdpcap # rdpcap loads entire pcap file to memory"
   ]
  },
  {
   "cell_type": "code",
   "execution_count": null,
   "metadata": {},
   "outputs": [],
   "source": [
    "from py2neo import Graph, Node, Relationship # import the modules needed from py2neo package"
   ]
  },
  {
   "cell_type": "code",
   "execution_count": null,
   "metadata": {},
   "outputs": [],
   "source": [
    "pcapfile = open('pcapfile.dump', 'rb')  # read pcap file in binary format\n",
    "\n",
    "capfile = savefile.load_savefile(pcapfile, layers=2, verbose=True)  # load the pcapfile into a variable"
   ]
  },
  {
   "cell_type": "markdown",
   "metadata": {},
   "source": [
    "Analysing data loaded using Extrapolatory Data Analysis"
   ]
  },
  {
   "cell_type": "code",
   "execution_count": null,
   "metadata": {},
   "outputs": [],
   "source": [
    "packets = rdpcap(\"pcapfile.dump\")  # Reading dump file using scapy \n",
    "print(packets)"
   ]
  },
  {
   "cell_type": "code",
   "execution_count": null,
   "metadata": {},
   "outputs": [],
   "source": [
    "packets.summary()   # An overall summary of data in the PCAP file"
   ]
  },
  {
   "cell_type": "code",
   "execution_count": null,
   "metadata": {},
   "outputs": [],
   "source": [
    "# Displays address type of the packet (IPv4/IPv6)\n",
    "for number, packet in enumerate(packets.sessions()):\n",
    "    print(capfile.packets[number].packet.payload)"
   ]
  },
  {
   "cell_type": "code",
   "execution_count": null,
   "metadata": {},
   "outputs": [],
   "source": [
    "packets.sessions() # Detailed summary of packets"
   ]
  },
  {
   "cell_type": "code",
   "execution_count": null,
   "metadata": {},
   "outputs": [],
   "source": [
    "neo4jGraph = Graph(password=\"123\") # Creating a graph to connect to the localhost Neo4j database."
   ]
  },
  {
   "cell_type": "code",
   "execution_count": null,
   "metadata": {},
   "outputs": [],
   "source": [
    "for number, packet in enumerate(packets.sessions()):\n",
    "    pkt = packet.split() #splitting packet object to extract information\n",
    "    \n",
    "    # check the first element of the list to see what type it is\n",
    "    if \"TCP\" in pkt[0]:\n",
    "        firstNode = Node(\"Host\", name=pkt[1].split(\":\")[0])\n",
    "        secondNode = Node(\"Host\", name=pkt[3].split(\":\")[0])\n",
    "\n",
    "        # check if it's IPv4 or IPv6\n",
    "        # convert the IP object into a string, splitting it and reading the first element of the array\n",
    "        if(str(capfile.packets[0].packet.payload).split()[0] == 'ipv4'):\n",
    "            SENDtcp = Relationship.type(\"TCP - IPv4\") # create a relationship of type TCP - IPv4\n",
    "        else:\n",
    "            SENDtcp = Relationship.type(\"TCP - IPv6\") # create a relationship of type TCP - IPv6\n",
    "        \n",
    "        neo4jGraph.merge(SENDtcp(firstNode, secondNode), \"Host\", \"name\") # connecting the relationship between the two nodes created above and loading into the database\n",
    "        \n",
    "    # check the first element of the list to see what type it is\n",
    "    elif \"UDP\" in pkt[0]:\n",
    "        # the second element in the packet object list is the sender address\n",
    "        firstNode = Node(\"Host\", name=pkt[1].split(\":\")[0])\n",
    "        \n",
    "         # the fourth element in the packet object list is the sender address\n",
    "        secondNode = Node(\"Host\", name=pkt[3].split(\":\")[0])\n",
    "        \n",
    "        # convert the UDP packet object into a string, splitting it and reading the first element of the array\n",
    "        SENDudp = Relationship.type(\"UDP\")\n",
    "        \n",
    "        # connect the relationship between the two nodes created above (loading into the database)\n",
    "        neo4jGraph.merge(SENDudp(firstNode, secondNode), \"Host\", \"name\")\n",
    "        \n",
    "        \n",
    "    # check the first element of the list to see what type it is\n",
    "    elif \"ICMP\" in pkt[0]:\n",
    "        # the second element in the packet object list is the sender address\n",
    "        firstNode = Node(\"Host\", name=pkt[1].split(\":\")[0])\n",
    "        # the fourth element in the packet object list is the sender address\n",
    "        \n",
    "        secondNode = Node(\"Host\", name=pkt[3].split(\":\")[0])\n",
    "        \n",
    "        # convert the ICMP packet object into a string, splitting it and reading the first element of the array\n",
    "        SENDicmp = Relationship.type(\"ICMP\")\n",
    "        \n",
    "         # connect the relationship between the two nodes created above (loading into the database)\n",
    "        neo4jGraph.merge(SENDicmp(firstNode, secondNode), \"Host\", \"name\")\n",
    "        \n",
    "    # check the first element of the list to see what type it is\n",
    "    elif \"ARP\" in pkt[0]:\n",
    "        # the second element in the packet object list is the sender address\n",
    "        firstNode = Node(\"Host\", name=pkt[1].split(\":\")[0])\n",
    "        \n",
    "        # the fourth element in the packet object list is the sender address\n",
    "        secondNode = Node(\"Host\", name=pkt[3].split(\":\")[0])\n",
    "        \n",
    "        # convert the ARP packet object into a string, splitting it and reading the first element of the array\n",
    "        SENDarp = Relationship.type(\"ARP\")\n",
    "        \n",
    "        # connect the relationship between the two nodes created above (loading into the database)\n",
    "        neo4jGraph.merge(SENDarp(firstNode, secondNode), \"Host\", \"name\")\n"
   ]
  },
  {
   "cell_type": "code",
   "execution_count": null,
   "metadata": {},
   "outputs": [],
   "source": []
  }
 ],
 "metadata": {
  "kernelspec": {
   "display_name": "Python 3",
   "language": "python",
   "name": "python3"
  },
  "language_info": {
   "codemirror_mode": {
    "name": "ipython",
    "version": 3
   },
   "file_extension": ".py",
   "mimetype": "text/x-python",
   "name": "python",
   "nbconvert_exporter": "python",
   "pygments_lexer": "ipython3",
   "version": "3.10.2"
  }
 },
 "nbformat": 4,
 "nbformat_minor": 2
}
